{
 "cells": [
  {
   "cell_type": "markdown",
   "id": "280adbca",
   "metadata": {},
   "source": [
    "## Note\n",
    "* 06/09/25 - menamatkan part of BOM dan DOM part 1 - \n",
    "* 08/09/25 - menamatkan part of BOM dan DOM part 1 - masih on progress materi terakhir mencari DOM - Next, coba eksperimen bentar ga usah lama dan kontekstual dibantu copilot buat nemuin, terus lanjut lagi ampe tamat!"
   ]
  },
  {
   "cell_type": "markdown",
   "id": "d24d7e7b",
   "metadata": {},
   "source": [
    "## Eksperimen/Curiosity to Make It a Challange\n",
    "\n",
    "1. coba gunkaan method document object getElementsByName() agar bisa mengembalikan banyak elemen (HTMLCollection) yang memiliki attribute name dengan nilai \"button\".\n",
    "2. coba gunkaan method document object getElementsByClassName() agar bisa Mengembalikan banyak elemen (HTMLCollection) yang memiliki attribute class dengan nilai \"button\".\n",
    "3. juga method querySelector() dan querySelectorAll()\n",
    "4.\n",
    "\n"
   ]
  },
  {
   "cell_type": "markdown",
   "id": "e4085370",
   "metadata": {},
   "source": [
    "## Term\n",
    "### \n"
   ]
  },
  {
   "cell_type": "markdown",
   "id": "8307d0d6",
   "metadata": {},
   "source": [
    "## QNA & catatan penting\n",
    "* Sejauh ini masih blm nemu tujuan yang kontekstual terkait penggunaan dom/bom pada pembangunan suatu web dari sisi FE\n",
    "* Perbedaan penggunaan property innerHTML dan Inner Text?\n",
    "<br> : Bedanya, kalau menggunakan innerHTML dia akan mengeluarkan output isi teks disertai html elementnya jika itu adalah element <P>, tapi innerText beda karena hanya mengeluarkan isi teks dalam element!\n",
    "* method DOM ada juga yang digunakan untuk membuat element html dengan object document, seperti createElement(). Method tersebut disertai dengan property(in dom context) seperti  innerText()/innerHtml() yang digunakan untuk memberi value pada elemen yang didefine. Method lain dari document object yang digunakan untuk menambahkan attribute pada element html adalah setAttribute()\n",
    "* Apa perbedaan nodelist dengan HTML collection? <br>\n",
    ": html collection itu live result, jadi kalau html diubah diapun ikut otomatis terupdate, dan juga isinya html saja. Nodelist itu static result. jadi, tidak bisa diubah meskipun dom dimodifikasi. html coll cocok untuk mencari elemen yang uptodate dengan dom, sementara nodelist untuk kerja dengan berabgai jenis code\n",
    "* nodelist itu maksudnya list yang berisi node tentang susunan elemen dalam html. Digunakan untuk mencari elemen tertentu seperti querySelectorAll() -> cara banyak node dalam nodelist\n",
    "* beberapa method dari object dom yang bisa memanipulasi halaman web dengan javascipt, yakni getElementById() -> untuk mendapatkan element tertentu berdasarkan id, dll cek di dicoding course FE for pemula\n",
    "* nama object DOM adalah document yang dengan object ini, kita dapat mengakses seluruh elemen  html menggunakan Javascipt karena document sebagai root strukturnya.\n",
    "* Implikasi dari struktur tersebut bisa berhubungan dengan penulisan berkas html. \n",
    "* Karena berhubungan dengan HTML, dia punya struktur yang namanya tree. Dalam struktur tersebut dia menjadi root dari berkas html seperti: tag element html as batang, dan elemen head & body element as daun-daun. \n",
    "* object document menyediakan akses JS untuk memanipulasi konten lewat API yang memungkinkan HTML dan JS komunikasi/terhubung.\n",
    "* method nya BOM ada alert(nampilin teks dalam pop-up), log(nampilin nilai dalam object console), prompt(nginput data berbagai tipe, tapi default string), info(), warn(), eror()\n",
    "* debugging -> fitur yang berperan sebagai alat untuk membantu memberi tahu bug tersembunyi dalam kode JS\n",
    "* object browser khusus console, ini sebetulnya bukan asli dari browser, tapi tetap bisa works dan berguna untuk membantu debugging.\n",
    "* Penggunaan JS sekarang sudah tidak hanya pada runtime env punya browser doang, tapi juga diluar browser seperti node js. Bedanya, kalau object browser/BOM itu dia punya syntax khusus yang hanya dapat works di browser. Sementara jika dijalankan di luar browser  akan eroras not defined. Object ini punya beberapa nama kayak: window, console, dll. \n",
    "\n",
    "\n",
    "\n",
    "\n",
    "### Web Storage as data memory\n",
    "\n",
    "\n",
    "### Interactive JS\n",
    "\n",
    "\n",
    "### DOM & BOM\n",
    "* \n"
   ]
  }
 ],
 "metadata": {
  "language_info": {
   "name": "python"
  }
 },
 "nbformat": 4,
 "nbformat_minor": 5
}
