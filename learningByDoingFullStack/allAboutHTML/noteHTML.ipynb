{
 "cells": [
  {
   "cell_type": "markdown",
   "id": "8307d0d6",
   "metadata": {},
   "source": [
    "## QNA & catatan penting\n",
    "### elemenLanjutan\n",
    "2. Masih ga paham ama penjelasan dampak dari tidak menyertakan attribute form dalam mengirim data?\n",
    "\n",
    "### genericElement\n",
    "### semanticElement\n",
    "### elemenDasar\n",
    "1. Apkah elemen header/main/footer boleh diberi id? \n",
    "<br>\n",
    ": Jawabnya, tidak perlu atau cukup pakai header/main/footer nya langsung karena dia merupakan selector yang setara dengan id dalam konteks fungsi. Dia memang unique, tapi id lebih tepat digunakan pada heading, dll.\n"
   ]
  },
  {
   "cell_type": "markdown",
   "id": "d24d7e7b",
   "metadata": {},
   "source": [
    "## Eksperimen/Curiosity to Make It a Challange\n",
    "### elemenLanjutan\n",
    "### elemenDasar\n",
    "1. Gw mau coba pakai attribute download, hreflang, ping, media dalam element anchor\n",
    "3. mending gw buat satu tujuan utama dulu kayak misal kan fokus gw ada web portofolio ama yang project hibah, jadi mungkin gw bisa langsung mencoba mendesign setiap materi kayak html -> buat struktur kasarnya dulu sebuah web portofolio gitu. jadi learning by doingnya tuh ga cuma nerapin, tapi juga create yang nanti terus dikembangin seiring pertambahan ilmu. Begitu juga dengan css & java script."
   ]
  },
  {
   "cell_type": "markdown",
   "id": "b3a667d8",
   "metadata": {},
   "source": [
    "## Term\n",
    "### elemenDasar\n",
    "### elemenLanjutan"
   ]
  },
  {
   "cell_type": "markdown",
   "id": "280adbca",
   "metadata": {},
   "source": [
    "## Note\n",
    "1. 20/08/25 -> last sampai materi html -> section\n",
    "2. 25/08/25 -> gw pengen memulai recap belajar di thread kayak Day 1-end, juga di IG itu lebih ke hasil/output dari belajarnya sebagai bagian dari learning by doing contoh kayak bagusde <br>\n",
    "dan juga ada ilmu singkat yang dishare, tapi dari perspektif gw misal dibuat kayak , bahkan tips belajar/di luar materi/theory. <br>\n",
    "Cuma, masalahnya gw udah di middle sih ga awal bagnet karena kelupaan di awal, apakah masih bisa untuk memulai?n<br>\n",
    "Tipsnya tuh kasih konteks sih ga dari 0 banget alias review kek atau apalah. <br> fokus di progress dan outputnya dulu gpp, materinya belakangan dan munculin seiring gw belajar.\n",
    "3. 27/08/25 -> terakhir sampai materi special character lom lese!"
   ]
  }
 ],
 "metadata": {
  "language_info": {
   "name": "python"
  }
 },
 "nbformat": 4,
 "nbformat_minor": 5
}
