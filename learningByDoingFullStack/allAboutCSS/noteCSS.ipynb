{
 "cells": [
  {
   "cell_type": "markdown",
   "id": "8307d0d6",
   "metadata": {},
   "source": [
    "## QNA & catatan penting\n",
    "<!-- Kamis & jumat -->\n",
    "### All about FlexBox\n",
    "* kaget juga, tiba-tiba ada property flex-flow yang katanya merupakan gabungan property flex-direction dan flex-wrap?\n",
    "* Gw masih bingung di Latihan: Implementasi Flexbox pada Halaman Profil, poin no 8 kenapa perlu felx: 5/flex: 8?\n",
    "* Apa maksud properti flex-flow\n",
    "* Flex basis itu mengisi ruang suatu item arah horizontal secara manual yang nanti antar jaraknya tuh kayak justify-around sehingga bisa otomatis membagi jaraknya secara adil antar items dan ukuran tiap-tiap items walaupun diatur secara manual jaraknya.\n",
    "* margin dan padding bukan bagian dalam kontainer flex/antar flex item? \n",
    "* Bagaimana hubungan padding/margin dengan gap? apakah saling mengisi/replace/beda area?\n",
    "* Gap adalah perpaduan justify content x align content, tapi pakai value space-around? tapi dia tuh versi customize, sementara keduanya tadi versi otomatis diaturin ama CSS?\n",
    "* Justify content = horizontal | align content = vertical\n",
    "* Bedanya value property align-items: flex-start dan baseline?\n",
    "* Bedanya value property justyf-content: space-around dan space evenly apa?\n",
    "* Pada property flex-direction, karena default adalah row, tapi apakah bisa di value lain seperti column dan column-reverse itu posisinya disebelah kanan? dengan cara baru yang ada diflexbox punya, bukan pakai property left/right/dll.\n",
    "* begitu pula pada property flex-wrap, mungkin ga arahnya tuh yang linear default/nowrap jadi dari arah kanan?\n",
    "* bagaimana flex-direction mempengaruhi main punya arah? alias selain horizontal?\n",
    "* flex-container diterapkan pada elemen container!\n",
    "* main start = titik sisi kiri | main end = titik sisi kanan\n",
    "* cross start = titik sisi atas | cross end = titik sisi bawah\n",
    "### All about Debugging & Optimization\n",
    "### All about Media Query\n",
    "### All about MetaTag\n",
    "### All about Float\n",
    "* Coba praktikan versi sederhana yang ada pada Latihan: Menerapkan Float pada Elemen Content dan Aside \n",
    "### All about Positioning\n",
    "* Pada bagian nav di setiap list yang berisi link, gunakan property list-style-type dengan nilai none agar menghilangkan tanda titik yang dihasilkan oleh list.\n",
    "<!-- Rabu -->\n",
    "### All about box model\n",
    "1. Margin dan padding bedanya adalah padding itu luaran area konten langsung yang bersifat optional, sementara margin area luaran padding dan border size yang bersifat optional.\n",
    "2. Px = absolute unit, tidak responsiv, dan tidak bergantung pada elemen lain. <br>\n",
    "% = relative unit, responsif, & bergantung pada elmen lain\n",
    "3. Tips membaca value beberapa properti CSS seperti margin/padding/border-width khsus inline/satu properti. <br>\n",
    "* Ketika satu nilai ditentukan, nilai berlaku untuk empat sisi.\n",
    "* Ketika dua nilai ditentukan, nilai pertama berlaku untuk sisi atas dan bawah, nilai kedua untuk sisi kiri dan kanan.\n",
    "* Ketika tiga nilai ditentukan, nilai pertama berlaku untuk sisi atas, nilai yang kedua untuk sisi kiri dan kanan, nilai ketiga untuk sisi bawah.\n",
    "* Ketika empat nilai ditentukan, nilai pertama berlaku untuk sisi atas, nilai yang kedua untuk sisi kanan, nilai yang ketiga untuk sisi bawah, dan nilai yang keempat untuk sisi kiri. Urutan tersebut berdasarkan arah jarum jam (clockwise).\n",
    "4. Apa contoh dari penerapan properti display inline-block?\n",
    "\n",
    "\n",
    "### All about coloring css\n",
    "### All about formating text\n",
    "### All about Selector\n",
    "1.  Pada alur kerja CSS, cara membaca adalah cascading/mengalir dari atas ke bawah sehingga hasil penerapan selector yang akan diterapkan adalah  yang paling akhir didefinisikan.\n",
    "3. Pada General Sibiling Selector (~), apakah hanya dua elemen yang menjadi range influence effect? bisa lebih ga?\n",
    "* Jawabanya bisa! cek file selectorCss.html\n",
    "\n",
    "\n"
   ]
  },
  {
   "cell_type": "markdown",
   "id": "d24d7e7b",
   "metadata": {},
   "source": [
    "## Eksperimen/Curiosity to Make It a Challange\n",
    "\n",
    "* Yap, gw mau buat semacam learning by doing yang merupakan hasil kritisasi + curiosity yang nantinya menerapkan langsung setiap konsep dan insight menarik yang didapat dari hasil sebelumnya menjadi satu buah project utama dulu, yaitu web portofolio. Nanti, progressnya gw mau share ke thread/dll termasuk define yang masih memungkinkan kayak method belajar/pendekatan. Juga bakalan sering share tips menarik yang gw dapetin dari orang, tapi gw kembangkan dengan catatan bukan inovasi gw pure, kasih penjelasan ae ini dia trik/tips bla-bla yang didapetin dari scroll sosmed, tapi insightfull.\n",
    "\n",
    "### Css dasar\n",
    "1. "
   ]
  },
  {
   "cell_type": "markdown",
   "id": "e4085370",
   "metadata": {},
   "source": [
    "## Term\n",
    "### CSS dasar\n",
    "* Selector\n",
    "* Declaration\n",
    "* Declaration block\n",
    "* Styling/rule-sets\n",
    "* Property\n",
    "* Embedded Style Sheet\n",
    "* Inline Style Sheet\n",
    "* External Style Sheet\n",
    "* Child-elements\n",
    "* Cascading\n",
    "* !important\n",
    "* Type Selector\n",
    "* Class Selector\n",
    "* Shareable\n",
    "* octothorpe \n"
   ]
  },
  {
   "cell_type": "markdown",
   "id": "280adbca",
   "metadata": {},
   "source": [
    "## Note\n",
    "1. Tambahan knowladge: https://mhdnauvalazhar.medium.com/7-praktik-css-untuk-back-end-front-end-developer-6aa79d86167a"
   ]
  }
 ],
 "metadata": {
  "language_info": {
   "name": "python"
  }
 },
 "nbformat": 4,
 "nbformat_minor": 5
}
