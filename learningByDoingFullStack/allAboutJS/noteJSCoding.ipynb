{
 "cells": [
  {
   "cell_type": "markdown",
   "id": "8307d0d6",
   "metadata": {},
   "source": [
    "## QNA & catatan penting\n",
    "\n",
    "### syntax advance JS\n",
    "### syntax interm JS\n",
    "\n",
    "### syntax dasar JS\n",
    "* control statement itu maksudnya mengontrol eksekusi kode agar dapat berhenti/lanjut\n",
    "* bedanya penggunaan syntax switch dengan if-elif-else itu lebih di bagian readable & ringkas code ma kebutuhan masing-masing. kalau range lebih baik pakai if-elif-else, tapi kalau selain itu misalnya jawaban langsung switch lebih cocok\n",
    "* rest parameter -> ini diterapkan pada parameter fungsi yang intinya dia bisa memasukan argumen yang berisi kumpulan value/value array dan bisa diterapkan pula pada destructing array. Caranya dengan menambah tiga titik setelah parameter\n",
    "* spread operator -> sangat bermanfaat untuk menggabungkan dan menyalin dua struktur data array dan object masing-masing. Caranya dengan menambah tiga titik setelah nama variabel\n",
    "* Perlakuan sturkut data set -> deklarasi, diassign, diakses, dan didelete\n",
    "* set -> tidak ada indeks dan key, juga tidak dapat ada data duplikat.\n",
    "* Perlakuan struktur data map -> deklarasi, diakes, diassign, dan delete\n",
    "* Map sebagai tambalan kekurangan si object agar bisa menyimpan tipe data apapun pada key-value paired\n",
    "* Perlakuan struktur data array -> define/deklarasi, diassign value, diakses, dimanipulasi data, ditambah data, dihapus data, dan diambil isinya/destructing\n",
    "* apakah ada syntax yang lebih efisein dan satu line aja gitu buat menambahkan banyak kali value dalam index array yang random?\n",
    "* penggunaan cara object constructor itu lebih cocok untuk kondisi membuat array dengan panjang tertentu tanpa mengisi nilainya\n",
    "* array bersifat dinamis sebab dia dapat menyimpan tipe data apapun di dalamnya. \n",
    "* Perlakuan struktur data Object hanya bisa -> mengakses, mengubah nilai, dan menghapus key. Dia termasuk struktur data yang tidak urut karena dia ga punya index seperti array dan saat diloop urutanya mengikuti aturan dari ECMAScript, yaitu integer-like keys(angka dulu), non-angka(alphabet cotohnya), symbol. cek pembuktian di file syntaxJS.js\n",
    "* var pemanggil function disebut parentheses, variabel/value dalam parentheses disebut argument\n",
    "* name function disebut uga identifier, variabel/value dalam function disebut parameter\n",
    "* **perbedaan penggunaan string() dan .toString()?**\n",
    "* operand = bahan nilai yang digunakan suatu operasi\n",
    "* saat ingin assign nilai dalam var berulang-ulang, gunakan inisiasi var let, tapi var assign cukup tanpa let, dll \n",
    "* Secara umum, operator dalam JavaScript terbagi menjadi tiga kelompok: unary, binary, dan ternary. Pengelompokan ini berdasarkan jumlah operan yang diperlukan untuk menggunakan suatu operator.\n",
    "* assignment operator digunakan untuk memberikan nilai suatu var\n",
    "* Elemen script bisa diletakan di head maupun body, tapi praktik umumnya memang diakhir body agar konten html bisa dirender terlebih dahulu seblum JS dijalankan. Buktinya bisa di cek/lakukan dengan menaruhnya di head, lalu ketika masuk halaman tersebut maka pop up alert akan muncul duluan. \n",
    "* Namun, tidak harus di akhir body karena bergantung pada kebutuhan interaksi JS terhadap tampilan halaman web, misalnya karena JS dibutuhkan segera untuk membentuk tampilan/interaksi awal pada saat user masuk ke halaman misalnya cookies, iklan, langganan, dll.\n",
    "* bukankah elemen script bisa diletakan diluar elemen body dan head selagi tetap di dalam elemen html?? <br>\n",
    ": Jawabanya bisa dilakukan, tapi tidak rekomen karena dilarang berdasarkan aturan dari: https://html.spec.whatwg.org/multipage/scripting.html#the-script-element. karena dapat membuat parser untuk SEO, accesibility atau redering susah mengenali\n",
    "\n",
    "\n",
    "\n",
    "\n",
    "### Pre-teknis JS\n",
    "* **Apa hubungan runtime environment dengan interpreter pada bahasa scripting JS?**\n",
    "* Nodejs adalah sebuah platform untuk mengeksekusi program Javascript di luar browser.\n",
    "* Interaksi antar FE dan BE juga butuh runtime REPL yang  berbeda dari runtime environment yang digunakan FE pada browser. Karena berbeda, jadi global object milik web/browser sudah tidak dapat diakses dan diganti dengan askes BE seperti file system, database, dll. Contohnya adalah Node.js dan BUN\n",
    "* Runtime environment adalah tempat sebuah program akan dieksekusi yang menentukan global object yang dapat diakses oleh program tersebut. Yang dimaksud global object ini berupa alert, manipulate konten, dll.  Ada 3 jenis runtime js: embeded, external file, dan REPL(Read-Eval-Print-Loop) versi browser.\n",
    "* **Apakah ada hubungan antara jenis bahasa pemrogramman compiled dan scripting language dengan jenis variabel, yakni static dan dynamic?**\n",
    "* Hasil kegiatan menulis kode ini disebut sebagai source code.\n",
    "* Source code tersebut akan diubah(compile) ke bahasa yang dapat dipahami oleh komputer sehingga bisa dianalisis dan dieksekusi perintah-perintahnya. Bahasa mesin tersebut dihasilkan dari bahasa pemrogramman yang punya/butuh compiler. Juga sering disebut compiled language.\n",
    "* Tapi, ada juga yang tidak perlu compiler karena adanya interpreter untuk menerjemahkan bahsa tersebut yang digunakan oleh mesin seperti browser untuk bahasa javascript, dll. Bahasa ini disebut scripting language. \n",
    "\n"
   ]
  },
  {
   "cell_type": "markdown",
   "id": "d24d7e7b",
   "metadata": {},
   "source": [
    "## Eksperimen/Curiosity to Make It a Challange\n",
    "\n",
    "* Yap, gw mau buat semacam learning by doing yang merupakan hasil kritisasi + curiosity yang nantinya menerapkan langsung setiap konsep dan insight menarik yang didapat dari hasil sebelumnya menjadi satu buah project utama dulu, yaitu web portofolio. Nanti, progressnya gw mau share ke thread/dll termasuk define yang masih memungkinkan kayak method belajar/pendekatan. Juga bakalan sering share tips menarik yang gw dapetin dari orang, tapi gw kembangkan dengan catatan bukan inovasi gw pure, kasih penjelasan ae ini dia trik/tips bla-bla yang didapetin dari scroll sosmed, tapi insightfull.\n",
    "\n"
   ]
  },
  {
   "cell_type": "markdown",
   "id": "e4085370",
   "metadata": {},
   "source": [
    "## Term\n",
    "### \n"
   ]
  },
  {
   "cell_type": "markdown",
   "id": "280adbca",
   "metadata": {},
   "source": [
    "## Note\n",
    "1."
   ]
  }
 ],
 "metadata": {
  "language_info": {
   "name": "python"
  }
 },
 "nbformat": 4,
 "nbformat_minor": 5
}
