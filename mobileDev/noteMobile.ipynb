{
 "cells": [
  {
   "cell_type": "markdown",
   "id": "8307d0d6",
   "metadata": {},
   "source": [
    "## QNA & catatan penting\n"
   ]
  },
  {
   "cell_type": "markdown",
   "id": "d24d7e7b",
   "metadata": {},
   "source": [
    "## Eksperimen/Curiosity to Make It a Challange\n",
    "1. Mending gw buat satu tujuan utama dulu kayak misal kan fokus gw adalah: project hibah, .Jadi mungkin gw bisa langsung mencoba mendesign setiap materi kayak dart -> buat logika flow/sistem tertentu. Jadi learning by doingnya tuh ga cuma nerapin, tapi juga create yang nanti terus dikembangin seiring pertambahan ilmu. Begitu juga dengan flutter, dkk!"
   ]
  },
  {
   "cell_type": "markdown",
   "id": "b3a667d8",
   "metadata": {},
   "source": [
    "## Term"
   ]
  },
  {
   "cell_type": "markdown",
   "id": "280adbca",
   "metadata": {},
   "source": [
    "## Note\n",
    "1. 20/08/25 -> "
   ]
  }
 ],
 "metadata": {
  "language_info": {
   "name": "python"
  }
 },
 "nbformat": 4,
 "nbformat_minor": 5
}
