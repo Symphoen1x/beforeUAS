{
 "cells": [
  {
   "cell_type": "markdown",
   "id": "35c42b63",
   "metadata": {},
   "source": [
    "## Buat Target Yang Jelas\n",
    "1. Gw target umum selesai web ini kan selama 3 minggu. Nah, kalau gitu week pertama selesai bagian apa aja, week kedua dst juga didefine.\n",
    "2. Per week:\n",
    "* W1 =  header -> navbar, hero\n",
    "* W2 = main -> about, project, gallery, contact\n",
    "* W3 = footer +  full JS\n"
   ]
  },
  {
   "cell_type": "markdown",
   "id": "4c18acd7",
   "metadata": {},
   "source": [
    "## Tips\n",
    "1. Tolong fokus ke bagian tertentu dulu pastikan jadi jangan dicicil-cicil dan melebar ke bagian lain selagi belum jadi\n",
    "2. Jadi itu ga harus sempurna, misal yang kejar  works dan tepat tampilanya meskipun masih kurang lengkap/estetik. Intinya perlu ada rasa cukup dulu. \n",
    "3. Baru soon, diupgred lagi pakai teknologi yang lebih baik(framework)/kwowladge nemu\n",
    "3. Modenya kan ATM, tapi jangan amati tiru bergantung sepenuhnya dan perlu ngembangin modifikasi by ilmu yang gw peroleh sendiri atau yang lebih baik dari contoh\n",
    "4. Jangan juga ngandelin AI buat dev. Buat awal-awal cukup write sendiri dulu ga masalah. eror, bingung penjelasan code contoh, butuh jawaban dari sebuah curiosity baru pakai AI. \n",
    "5. Untuk learn by doing pun sama, boleh banget cek kembali catatan sendiri/ilmu yang dipelajari dari sumber dicoding"
   ]
  },
  {
   "cell_type": "markdown",
   "id": "d2cd0b9b",
   "metadata": {},
   "source": [
    "## Learning by doing\n",
    "### List materi HTML yang dipakai:\n",
    "1. Semantic element(full)\n",
    "2. generic element(partial: div, span?)\n",
    "3. elemen dasar(partial:yang diejlasin di elemen dasar + tambahan dikit meneysuaikan)\n",
    "4. elemen lanjutan(partial: input, character)\n",
    "\n",
    "### List materi CSS yang dipakai:\n",
    "1. flexbox(full)\n",
    "2. selector(full)\n",
    "3. boxmodel(full)\n",
    "4. viewportDeviceResponsive(full)\n",
    "5. positioning(partial minor)\n",
    "6. formating text(partial mayor)\n",
    "7. coloring(partial mayor)\n",
    "\n",
    "### List materi JS yang dipakai:\n",
    "(sambil flow dulu ae sebenere karena emang js ni gw blm belajar semua)\n",
    "      \n",
    "    "
   ]
  }
 ],
 "metadata": {
  "language_info": {
   "name": "python"
  }
 },
 "nbformat": 4,
 "nbformat_minor": 5
}
